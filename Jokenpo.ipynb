{
 "cells": [
  {
   "cell_type": "code",
   "execution_count": 1,
   "metadata": {},
   "outputs": [],
   "source": [
    "#random e numpy para seleção de numeros aleatorios, sleep para o timing do jokenpo\n",
    "import random \n",
    "from time import sleep\n",
    "import numpy as np\n",
    "def Jokenpo ():\n",
    "    #input nome dos usuários e escolha\n",
    "    username = input ('''Olá, você irá jogar Jokenpo contra o computador\\n \n",
    "                      \\n================================================================================ \n",
    "                      \\nQual seu nome? ''')\n",
    "    escolhas = ('Pedra', 'Papel','Tesoura')\n",
    "    choice = int(input(f'Olá {username}! Escolha entre os números [0] Pedra   [1] Papel   [2] Tesoura   '))    \n",
    "    while choice not in (0,1,2):\n",
    "        choice = (int(input(f'{username}! Por favor escolha entre os números \\n[0] = Pedra   \\n[1] = Papel   \\n[2] = Tesoura\\n  ' )))\n",
    "    \n",
    "    #numpy selecionando a opção do pc\n",
    "    pc = np.random.choice ([0,1,2])\n",
    "    \n",
    "    #exibição de código  \n",
    "    print(\"\\nJO\\n\")\n",
    "    sleep(1)\n",
    "    print(\"KEN\\n\")\n",
    "    sleep(1)\n",
    "    print(\"POÔH!!!\\n\")\n",
    " \n",
    "    print ((f'{username}, você escolheu {escolhas[choice]}'))\n",
    "    sleep (0.75)\n",
    "    print ((f'O computador escolheu {escolhas[pc]}'))\n",
    "    sleep (0.75)      \n",
    "\n",
    "    \n",
    "    #se o computador seleciona Pedra\n",
    "    if pc == 0:\n",
    "        if choice == 0:\n",
    "            print ('\\nEmpatouuuu!')\n",
    "        elif choice == 1:\n",
    "            print ('\\nParabéns, você ganhou')\n",
    "        elif choice == 2:\n",
    "            print ('\\nOh no, você perdeu ☺')  \n",
    "    \n",
    "    #se o computador seleciona Papel \n",
    "    if pc == 1:\n",
    "        if choice == 0:\n",
    "            print ('\\nOh no, você perdeu')\n",
    "        elif choice == 1:\n",
    "            print ('\\nEmpatouuuu')\n",
    "        elif choice == 2:\n",
    "            print ('\\nParabéns, você ganhou')\n",
    "    \n",
    "    #se o computador seleciona Tesoura\n",
    "    if pc == 2:\n",
    "        if choice == 0:\n",
    "            print ('\\nParabéns, você ganhou')\n",
    "        elif choice == 1:\n",
    "            print ('\\nOh no, você perdeu')\n",
    "        elif choice == 2:\n",
    "            print ('\\nEmpatouuuu!')\n"
   ]
  },
  {
   "cell_type": "code",
   "execution_count": null,
   "metadata": {},
   "outputs": [],
   "source": [
    "Jokenpo ()"
   ]
  },
  {
   "cell_type": "code",
   "execution_count": null,
   "metadata": {},
   "outputs": [],
   "source": [
    "\n"
   ]
  },
  {
   "cell_type": "code",
   "execution_count": null,
   "metadata": {},
   "outputs": [],
   "source": []
  }
 ],
 "metadata": {
  "kernelspec": {
   "display_name": "Python 3",
   "language": "python",
   "name": "python3"
  },
  "language_info": {
   "codemirror_mode": {
    "name": "ipython",
    "version": 3
   },
   "file_extension": ".py",
   "mimetype": "text/x-python",
   "name": "python",
   "nbconvert_exporter": "python",
   "pygments_lexer": "ipython3",
   "version": "3.8.3"
  }
 },
 "nbformat": 4,
 "nbformat_minor": 4
}
